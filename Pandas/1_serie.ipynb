{
 "cells": [
  {
   "cell_type": "markdown",
   "metadata": {},
   "source": [
    "# Serie Pandas\n",
    "\n",
    "Le Serie di Pandas sono simili alle Liste di Python. Sono array monodimensionali di oggetti, in cui ogni riga ha un indice che, di default, parte da 0.\n"
   ]
  },
  {
   "cell_type": "code",
   "execution_count": 17,
   "metadata": {},
   "outputs": [],
   "source": [
    "import pandas as pd"
   ]
  },
  {
   "cell_type": "markdown",
   "metadata": {},
   "source": [
    "## Creazione di una Serie"
   ]
  },
  {
   "cell_type": "code",
   "execution_count": 18,
   "metadata": {},
   "outputs": [],
   "source": [
    "locations = pd.Series([\"Roma\",\"Milano\",\"Napoli\",\"Torino\",\"Ancona\",\"Cuneo\"])"
   ]
  },
  {
   "cell_type": "code",
   "execution_count": 19,
   "metadata": {},
   "outputs": [
    {
     "data": {
      "text/plain": [
       "0      Roma\n",
       "1    Milano\n",
       "2    Napoli\n",
       "3    Torino\n",
       "4    Ancona\n",
       "dtype: object"
      ]
     },
     "execution_count": 19,
     "metadata": {},
     "output_type": "execute_result"
    }
   ],
   "source": [
    "locations.head()"
   ]
  },
  {
   "cell_type": "markdown",
   "metadata": {},
   "source": [
    "## Accesso all'elemento di una Serie"
   ]
  },
  {
   "cell_type": "code",
   "execution_count": 20,
   "metadata": {},
   "outputs": [
    {
     "data": {
      "text/plain": [
       "'Napoli'"
      ]
     },
     "execution_count": 20,
     "metadata": {},
     "output_type": "execute_result"
    }
   ],
   "source": [
    "locations[2]"
   ]
  },
  {
   "cell_type": "markdown",
   "metadata": {},
   "source": [
    "## Stampa di tutti gli elementi di una serie"
   ]
  },
  {
   "cell_type": "code",
   "execution_count": 21,
   "metadata": {},
   "outputs": [
    {
     "name": "stdout",
     "output_type": "stream",
     "text": [
      "Roma\n",
      "Milano\n",
      "Napoli\n",
      "Torino\n",
      "Ancona\n",
      "Cuneo\n"
     ]
    }
   ],
   "source": [
    "for value in locations:\n",
    "    print(value)"
   ]
  },
  {
   "cell_type": "code",
   "execution_count": 22,
   "metadata": {},
   "outputs": [
    {
     "name": "stdout",
     "output_type": "stream",
     "text": [
      "Roma\n",
      "Milano\n",
      "Napoli\n",
      "Torino\n",
      "Ancona\n",
      "Cuneo\n"
     ]
    }
   ],
   "source": [
    "lenght = len(locations)\n",
    "for i in range(0,lenght):\n",
    "    print(locations[i])"
   ]
  },
  {
   "cell_type": "code",
   "execution_count": 23,
   "metadata": {},
   "outputs": [
    {
     "name": "stdout",
     "output_type": "stream",
     "text": [
      "Roma\n",
      "Milano\n",
      "Napoli\n",
      "Torino\n",
      "Ancona\n",
      "Cuneo\n"
     ]
    }
   ],
   "source": [
    "lenght = len(locations)\n",
    "i = 0\n",
    "while i < lenght:\n",
    "    print(locations[i])\n",
    "    i += 1"
   ]
  },
  {
   "cell_type": "code",
   "execution_count": 24,
   "metadata": {},
   "outputs": [],
   "source": [
    "def print_serie(serie):\n",
    "    for value in serie:\n",
    "        print(value)"
   ]
  },
  {
   "cell_type": "markdown",
   "metadata": {},
   "source": [
    "## Aggiunta di una valore ad una serie"
   ]
  },
  {
   "cell_type": "code",
   "execution_count": 25,
   "metadata": {},
   "outputs": [
    {
     "name": "stdout",
     "output_type": "stream",
     "text": [
      "0       Roma\n",
      "1     Milano\n",
      "2     Napoli\n",
      "3     Torino\n",
      "4     Ancona\n",
      "5      Cuneo\n",
      "6    Firenze\n",
      "dtype: object\n"
     ]
    }
   ],
   "source": [
    "locations[6] = \"Firenze\"\n",
    "print(locations)"
   ]
  },
  {
   "cell_type": "code",
   "execution_count": 26,
   "metadata": {},
   "outputs": [
    {
     "name": "stdout",
     "output_type": "stream",
     "text": [
      "0        Roma\n",
      "1      Milano\n",
      "2      Napoli\n",
      "3      Torino\n",
      "4      Ancona\n",
      "5       Cuneo\n",
      "6     Firenze\n",
      "0    Monopoli\n",
      "dtype: object\n"
     ]
    }
   ],
   "source": [
    "locations = pd.concat([locations, pd.Series(['Monopoli'])]) # senza aggiornamento dell'indice\n",
    "print(locations)"
   ]
  },
  {
   "cell_type": "code",
   "execution_count": 27,
   "metadata": {},
   "outputs": [
    {
     "name": "stdout",
     "output_type": "stream",
     "text": [
      "0        Roma\n",
      "1      Milano\n",
      "2      Napoli\n",
      "3      Torino\n",
      "4      Ancona\n",
      "5       Cuneo\n",
      "6     Firenze\n",
      "7    Monopoli\n",
      "8       Olbia\n",
      "dtype: object\n"
     ]
    }
   ],
   "source": [
    "locations = pd.concat([locations, pd.Series(['Olbia'])], ignore_index=True) # con aggiornamento dell'indice\n",
    "print(locations)"
   ]
  },
  {
   "cell_type": "markdown",
   "metadata": {},
   "source": [
    "## Cambiare il valore di un elemento della Serie"
   ]
  },
  {
   "cell_type": "code",
   "execution_count": 28,
   "metadata": {},
   "outputs": [
    {
     "name": "stdout",
     "output_type": "stream",
     "text": [
      "Prima del cambiamento\n",
      "0        Roma\n",
      "1      Milano\n",
      "2      Napoli\n",
      "3      Torino\n",
      "4      Ancona\n",
      "5       Cuneo\n",
      "6     Firenze\n",
      "7    Monopoli\n",
      "8       Olbia\n",
      "dtype: object\n",
      "\n",
      "\n",
      "Dopo il cambiamento\n",
      "0        Roma\n",
      "1      Milano\n",
      "2     Venezia\n",
      "3      Torino\n",
      "4      Ancona\n",
      "5       Cuneo\n",
      "6     Firenze\n",
      "7    Monopoli\n",
      "8       Olbia\n",
      "dtype: object\n"
     ]
    }
   ],
   "source": [
    "print(\"Prima del cambiamento\")\n",
    "print(locations)\n",
    "print('\\n')\n",
    "locations[2] = \"Venezia\"\n",
    "print(\"Dopo il cambiamento\")\n",
    "print(locations)"
   ]
  },
  {
   "cell_type": "markdown",
   "metadata": {},
   "source": [
    "## Copia di una serie"
   ]
  },
  {
   "cell_type": "code",
   "execution_count": 29,
   "metadata": {},
   "outputs": [
    {
     "name": "stdout",
     "output_type": "stream",
     "text": [
      "0        Roma\n",
      "1      Milano\n",
      "2     Venezia\n",
      "3      Torino\n",
      "4      Ancona\n",
      "5       Cuneo\n",
      "6     Firenze\n",
      "7    Monopoli\n",
      "8       Olbia\n",
      "dtype: object\n"
     ]
    }
   ],
   "source": [
    "new_locations = locations.copy()\n",
    "print(new_locations)"
   ]
  },
  {
   "cell_type": "markdown",
   "metadata": {},
   "source": [
    "## Concatenamento di due Serie"
   ]
  },
  {
   "cell_type": "code",
   "execution_count": 31,
   "metadata": {},
   "outputs": [
    {
     "name": "stdout",
     "output_type": "stream",
     "text": [
      "0    a\n",
      "1    b\n",
      "2    c\n",
      "0    d\n",
      "1    e\n",
      "2    f\n",
      "dtype: object\n"
     ]
    }
   ],
   "source": [
    "serie1 = pd.Series(['a','b','c'])\n",
    "serie2 = pd.Series(['d','e','f'])\n",
    "serie_concat = pd.concat([serie1,serie2])\n",
    "print(serie_concat)"
   ]
  },
  {
   "cell_type": "markdown",
   "metadata": {},
   "source": [
    "## Reset degli indici di una Serie"
   ]
  },
  {
   "cell_type": "code",
   "execution_count": 32,
   "metadata": {},
   "outputs": [
    {
     "name": "stdout",
     "output_type": "stream",
     "text": [
      "0    a\n",
      "1    b\n",
      "2    c\n",
      "3    d\n",
      "4    e\n",
      "5    f\n",
      "dtype: object\n"
     ]
    }
   ],
   "source": [
    "serie_concat = serie_concat.reset_index(drop=True)\n",
    "print(serie_concat)"
   ]
  }
 ],
 "metadata": {
  "kernelspec": {
   "display_name": "venv",
   "language": "python",
   "name": "python3"
  },
  "language_info": {
   "codemirror_mode": {
    "name": "ipython",
    "version": 3
   },
   "file_extension": ".py",
   "mimetype": "text/x-python",
   "name": "python",
   "nbconvert_exporter": "python",
   "pygments_lexer": "ipython3",
   "version": "3.11.0"
  }
 },
 "nbformat": 4,
 "nbformat_minor": 2
}
